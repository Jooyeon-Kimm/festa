{
 "cells": [
  {
   "cell_type": "markdown",
   "metadata": {},
   "source": [
    "lungeErrorDetection"
   ]
  },
  {
   "cell_type": "code",
   "execution_count": 19,
   "metadata": {},
   "outputs": [],
   "source": [
    "TRAIN_PATH = ''\n",
    "TEST_PATH = ''\n",
    "labels_ = []"
   ]
  },
  {
   "cell_type": "code",
   "execution_count": 20,
   "metadata": {},
   "outputs": [],
   "source": [
    "import mediapipe as mp\n",
    "import pandas as pd\n",
    "import pickle\n",
    "\n",
    "from sklearn.model_selection import train_test_split\n",
    "from sklearn.metrics import precision_score, accuracy_score, f1_score, recall_score, confusion_matrix\n",
    "\n",
    "import warnings\n",
    "warnings.filterwarnings('ignore')"
   ]
  },
  {
   "cell_type": "code",
   "execution_count": 21,
   "metadata": {},
   "outputs": [],
   "source": [
    "df = pd.read_csv(TRAIN_PATH)\n",
    "df.loc[df[\"label\"] == labels_[0], \"label\"] = 0\n",
    "df.loc[df[\"label\"] == labels_[1], \"label\"] = 1"
   ]
  },
  {
   "cell_type": "code",
   "execution_count": 22,
   "metadata": {},
   "outputs": [],
   "source": [
    "with open(\"./models/lunge_input_scaler.pkl\", \"rb\") as f:\n",
    "    sc = pickle.load(f)"
   ]
  },
  {
   "cell_type": "code",
   "execution_count": 23,
   "metadata": {},
   "outputs": [],
   "source": [
    "X = df.drop(\"label\", axis=1)\n",
    "y = df[\"label\"].astype(\"int\")\n",
    "\n",
    "X = pd.DataFrame(sc.transform(X))"
   ]
  },
  {
   "cell_type": "code",
   "execution_count": 24,
   "metadata": {},
   "outputs": [],
   "source": [
    "X_train, X_test, y_train, y_test = train_test_split(X, y, test_size=0.2, random_state=42)"
   ]
  },
  {
   "cell_type": "markdown",
   "metadata": {},
   "source": [
    "train AI"
   ]
  },
  {
   "cell_type": "code",
   "execution_count": 25,
   "metadata": {},
   "outputs": [],
   "source": [
    "from sklearn.ensemble import RandomForestClassifier"
   ]
  },
  {
   "cell_type": "code",
   "execution_count": 26,
   "metadata": {},
   "outputs": [],
   "source": [
    "rf = RandomForestClassifier(n_estimators=120,\n",
    "                          max_depth=30,\n",
    "                          min_samples_split=5,\n",
    "                          min_samples_leaf=5,\n",
    "                          max_features=None,\n",
    "                          oob_score=True,\n",
    "                          random_state=42)\n",
    "rf.fit(X_train, y_train)\n",
    "model_results = rf.predict(X_test)"
   ]
  },
  {
   "cell_type": "code",
   "execution_count": 27,
   "metadata": {},
   "outputs": [],
   "source": [
    "p_score = precision_score(y_test, model_results, average=None, labels=[1, 0])\n",
    "a_score = accuracy_score(y_test, model_results)\n",
    "r_score = recall_score(y_test, model_results, average=None, labels=[1, 0])\n",
    "f1_score_result = f1_score(y_test, model_results, average=None, labels=[1, 0])\n",
    "cm = confusion_matrix(y_test, model_results, labels=[1, 0])"
   ]
  },
  {
   "cell_type": "markdown",
   "metadata": {},
   "source": [
    "eval AI"
   ]
  },
  {
   "cell_type": "code",
   "execution_count": 28,
   "metadata": {},
   "outputs": [],
   "source": [
    "test_df = pd.read_csv(TEST_PATH)\n",
    "test_df = test_df.sample(frac=1).reset_index(drop=True)\n",
    "\n",
    "# Categorizing label\n",
    "test_df.loc[test_df[\"label\"] == labels_[0], \"label\"] = 0\n",
    "test_df.loc[test_df[\"label\"] == labels_[1], \"label\"] = 1\n",
    "\n",
    "test_x = test_df.drop(\"label\", axis=1)\n",
    "test_y = test_df[\"label\"].astype(\"int\")\n",
    "\n",
    "test_x = pd.DataFrame(sc.transform(test_x))\n",
    "\n",
    "model_results = rf.predict(test_x)"
   ]
  },
  {
   "cell_type": "code",
   "execution_count": 29,
   "metadata": {},
   "outputs": [],
   "source": [
    "p_score = precision_score(test_y, model_results, average=None, labels=[1, 0])\n",
    "a_score = accuracy_score(test_y, model_results)\n",
    "r_score = recall_score(test_y, model_results, average=None, labels=[1, 0])\n",
    "f1_score_result = f1_score(test_y, model_results, average=None, labels=[1, 0])\n",
    "cm = confusion_matrix(test_y, model_results, labels=[1, 0])"
   ]
  },
  {
   "cell_type": "code",
   "execution_count": 34,
   "metadata": {},
   "outputs": [
    {
     "name": "stdout",
     "output_type": "stream",
     "text": [
      "RandomForest\n",
      "P_Score is [0.95463511 0.89666667]\n",
      "Accuracy_Score is 0.9232158988256549\n",
      "Recall_Score is [0.88644689 0.95900178]\n",
      "F1_Score is [0.91927825 0.92678725]\n"
     ]
    }
   ],
   "source": [
    "print('RandomForest')\n",
    "print(f'P_Score is {p_score}')\n",
    "print(f'Accuracy_Score is {a_score}')\n",
    "print(f'Recall_Score is {r_score}')\n",
    "print(f'F1_Score is {f1_score_result}')"
   ]
  },
  {
   "cell_type": "markdown",
   "metadata": {},
   "source": [
    "dump model"
   ]
  },
  {
   "cell_type": "code",
   "execution_count": 33,
   "metadata": {},
   "outputs": [],
   "source": [
    "with open(\"./models/lunge_errorDetection.pkl\", \"wb\") as f:\n",
    "    pickle.dump(rf, f)"
   ]
  }
 ],
 "metadata": {
  "kernelspec": {
   "display_name": "Python 3",
   "language": "python",
   "name": "python3"
  },
  "language_info": {
   "codemirror_mode": {
    "name": "ipython",
    "version": 3
   },
   "file_extension": ".py",
   "mimetype": "text/x-python",
   "name": "python",
   "nbconvert_exporter": "python",
   "pygments_lexer": "ipython3",
   "version": "3.11.4"
  },
  "orig_nbformat": 4
 },
 "nbformat": 4,
 "nbformat_minor": 2
}
