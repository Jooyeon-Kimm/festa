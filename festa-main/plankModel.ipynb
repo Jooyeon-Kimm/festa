{
 "cells": [
  {
   "cell_type": "code",
   "execution_count": 1,
   "metadata": {},
   "outputs": [],
   "source": [
    "TRAIN_PATH = ''\n",
    "TEST_PATH = ''\n",
    "labels_=[]"
   ]
  },
  {
   "cell_type": "markdown",
   "metadata": {},
   "source": [
    "import library"
   ]
  },
  {
   "cell_type": "code",
   "execution_count": 2,
   "metadata": {},
   "outputs": [],
   "source": [
    "import mediapipe as mp\n",
    "import pandas as pd\n",
    "import pickle\n",
    "\n",
    "from sklearn.model_selection import train_test_split\n",
    "from sklearn.preprocessing import StandardScaler\n",
    "\n",
    "import warnings\n",
    "warnings.filterwarnings('ignore')"
   ]
  },
  {
   "cell_type": "code",
   "execution_count": 3,
   "metadata": {},
   "outputs": [
    {
     "data": {
      "text/html": [
       "<div>\n",
       "<style scoped>\n",
       "    .dataframe tbody tr th:only-of-type {\n",
       "        vertical-align: middle;\n",
       "    }\n",
       "\n",
       "    .dataframe tbody tr th {\n",
       "        vertical-align: top;\n",
       "    }\n",
       "\n",
       "    .dataframe thead th {\n",
       "        text-align: right;\n",
       "    }\n",
       "</style>\n",
       "<table border=\"1\" class=\"dataframe\">\n",
       "  <thead>\n",
       "    <tr style=\"text-align: right;\">\n",
       "      <th></th>\n",
       "      <th>label</th>\n",
       "      <th>nose_x</th>\n",
       "      <th>nose_y</th>\n",
       "      <th>nose_z</th>\n",
       "      <th>nose_v</th>\n",
       "      <th>left_shoulder_x</th>\n",
       "      <th>left_shoulder_y</th>\n",
       "      <th>left_shoulder_z</th>\n",
       "      <th>left_shoulder_v</th>\n",
       "      <th>right_shoulder_x</th>\n",
       "      <th>...</th>\n",
       "      <th>right_heel_z</th>\n",
       "      <th>right_heel_v</th>\n",
       "      <th>left_foot_index_x</th>\n",
       "      <th>left_foot_index_y</th>\n",
       "      <th>left_foot_index_z</th>\n",
       "      <th>left_foot_index_v</th>\n",
       "      <th>right_foot_index_x</th>\n",
       "      <th>right_foot_index_y</th>\n",
       "      <th>right_foot_index_z</th>\n",
       "      <th>right_foot_index_v</th>\n",
       "    </tr>\n",
       "  </thead>\n",
       "  <tbody>\n",
       "    <tr>\n",
       "      <th>28517</th>\n",
       "      <td>1</td>\n",
       "      <td>0.735630</td>\n",
       "      <td>0.543294</td>\n",
       "      <td>0.007467</td>\n",
       "      <td>0.999246</td>\n",
       "      <td>0.695831</td>\n",
       "      <td>0.417349</td>\n",
       "      <td>0.155194</td>\n",
       "      <td>0.995723</td>\n",
       "      <td>0.720067</td>\n",
       "      <td>...</td>\n",
       "      <td>0.086010</td>\n",
       "      <td>0.966131</td>\n",
       "      <td>0.226601</td>\n",
       "      <td>0.598075</td>\n",
       "      <td>0.219305</td>\n",
       "      <td>0.470830</td>\n",
       "      <td>0.220079</td>\n",
       "      <td>0.614120</td>\n",
       "      <td>0.026265</td>\n",
       "      <td>0.934942</td>\n",
       "    </tr>\n",
       "    <tr>\n",
       "      <th>28518</th>\n",
       "      <td>1</td>\n",
       "      <td>0.775572</td>\n",
       "      <td>0.517579</td>\n",
       "      <td>0.012821</td>\n",
       "      <td>0.999378</td>\n",
       "      <td>0.704168</td>\n",
       "      <td>0.404210</td>\n",
       "      <td>0.162908</td>\n",
       "      <td>0.995909</td>\n",
       "      <td>0.730823</td>\n",
       "      <td>...</td>\n",
       "      <td>0.070911</td>\n",
       "      <td>0.967070</td>\n",
       "      <td>0.238810</td>\n",
       "      <td>0.610591</td>\n",
       "      <td>0.198591</td>\n",
       "      <td>0.496140</td>\n",
       "      <td>0.228907</td>\n",
       "      <td>0.625559</td>\n",
       "      <td>0.018591</td>\n",
       "      <td>0.938905</td>\n",
       "    </tr>\n",
       "    <tr>\n",
       "      <th>28519</th>\n",
       "      <td>1</td>\n",
       "      <td>0.790600</td>\n",
       "      <td>0.498958</td>\n",
       "      <td>0.007789</td>\n",
       "      <td>0.999467</td>\n",
       "      <td>0.710651</td>\n",
       "      <td>0.394019</td>\n",
       "      <td>0.164441</td>\n",
       "      <td>0.996123</td>\n",
       "      <td>0.736771</td>\n",
       "      <td>...</td>\n",
       "      <td>0.085872</td>\n",
       "      <td>0.967943</td>\n",
       "      <td>0.238197</td>\n",
       "      <td>0.609329</td>\n",
       "      <td>0.233198</td>\n",
       "      <td>0.510583</td>\n",
       "      <td>0.227823</td>\n",
       "      <td>0.626068</td>\n",
       "      <td>0.036127</td>\n",
       "      <td>0.940917</td>\n",
       "    </tr>\n",
       "  </tbody>\n",
       "</table>\n",
       "<p>3 rows × 69 columns</p>\n",
       "</div>"
      ],
      "text/plain": [
       "      label    nose_x    nose_y    nose_z    nose_v  left_shoulder_x  \\\n",
       "28517     1  0.735630  0.543294  0.007467  0.999246         0.695831   \n",
       "28518     1  0.775572  0.517579  0.012821  0.999378         0.704168   \n",
       "28519     1  0.790600  0.498958  0.007789  0.999467         0.710651   \n",
       "\n",
       "       left_shoulder_y  left_shoulder_z  left_shoulder_v  right_shoulder_x  \\\n",
       "28517         0.417349         0.155194         0.995723          0.720067   \n",
       "28518         0.404210         0.162908         0.995909          0.730823   \n",
       "28519         0.394019         0.164441         0.996123          0.736771   \n",
       "\n",
       "       ...  right_heel_z  right_heel_v  left_foot_index_x  left_foot_index_y  \\\n",
       "28517  ...      0.086010      0.966131           0.226601           0.598075   \n",
       "28518  ...      0.070911      0.967070           0.238810           0.610591   \n",
       "28519  ...      0.085872      0.967943           0.238197           0.609329   \n",
       "\n",
       "       left_foot_index_z  left_foot_index_v  right_foot_index_x  \\\n",
       "28517           0.219305           0.470830            0.220079   \n",
       "28518           0.198591           0.496140            0.228907   \n",
       "28519           0.233198           0.510583            0.227823   \n",
       "\n",
       "       right_foot_index_y  right_foot_index_z  right_foot_index_v  \n",
       "28517            0.614120            0.026265            0.934942  \n",
       "28518            0.625559            0.018591            0.938905  \n",
       "28519            0.626068            0.036127            0.940917  \n",
       "\n",
       "[3 rows x 69 columns]"
      ]
     },
     "execution_count": 3,
     "metadata": {},
     "output_type": "execute_result"
    }
   ],
   "source": [
    "df = pd.read_csv(\"./train.csv\")\n",
    "df.loc[df[\"label\"] == labels_[0], \"label\"] = 0\n",
    "df.loc[df[\"label\"] == labels_[1], \"label\"] = 1\n",
    "df.loc[df[\"label\"] == labels_[2], \"label\"] = 2"
   ]
  },
  {
   "cell_type": "code",
   "execution_count": 4,
   "metadata": {},
   "outputs": [],
   "source": [
    "X = df.drop(\"label\", axis=1)\n",
    "y = df[\"label\"].astype(\"int\")\n",
    "\n",
    "sc = StandardScaler()\n",
    "sc.fit(X)\n",
    "X = pd.DataFrame(sc.transform(X))\n",
    "\n",
    "X_train, X_test, y_train, y_test = train_test_split(X, y, test_size=0.2, random_state=42)"
   ]
  },
  {
   "cell_type": "code",
   "execution_count": 5,
   "metadata": {},
   "outputs": [],
   "source": [
    "with open(\"./models/plank_input_scaler.pkl\", \"wb\") as f:\n",
    "    pickle.dump(sc, f)"
   ]
  },
  {
   "cell_type": "markdown",
   "metadata": {},
   "source": [
    "train ai"
   ]
  },
  {
   "cell_type": "code",
   "execution_count": 6,
   "metadata": {},
   "outputs": [],
   "source": [
    "from sklearn.ensemble import RandomForestClassifier"
   ]
  },
  {
   "cell_type": "code",
   "execution_count": 7,
   "metadata": {},
   "outputs": [
    {
     "data": {
      "text/html": [
       "<style>#sk-container-id-1 {color: black;}#sk-container-id-1 pre{padding: 0;}#sk-container-id-1 div.sk-toggleable {background-color: white;}#sk-container-id-1 label.sk-toggleable__label {cursor: pointer;display: block;width: 100%;margin-bottom: 0;padding: 0.3em;box-sizing: border-box;text-align: center;}#sk-container-id-1 label.sk-toggleable__label-arrow:before {content: \"▸\";float: left;margin-right: 0.25em;color: #696969;}#sk-container-id-1 label.sk-toggleable__label-arrow:hover:before {color: black;}#sk-container-id-1 div.sk-estimator:hover label.sk-toggleable__label-arrow:before {color: black;}#sk-container-id-1 div.sk-toggleable__content {max-height: 0;max-width: 0;overflow: hidden;text-align: left;background-color: #f0f8ff;}#sk-container-id-1 div.sk-toggleable__content pre {margin: 0.2em;color: black;border-radius: 0.25em;background-color: #f0f8ff;}#sk-container-id-1 input.sk-toggleable__control:checked~div.sk-toggleable__content {max-height: 200px;max-width: 100%;overflow: auto;}#sk-container-id-1 input.sk-toggleable__control:checked~label.sk-toggleable__label-arrow:before {content: \"▾\";}#sk-container-id-1 div.sk-estimator input.sk-toggleable__control:checked~label.sk-toggleable__label {background-color: #d4ebff;}#sk-container-id-1 div.sk-label input.sk-toggleable__control:checked~label.sk-toggleable__label {background-color: #d4ebff;}#sk-container-id-1 input.sk-hidden--visually {border: 0;clip: rect(1px 1px 1px 1px);clip: rect(1px, 1px, 1px, 1px);height: 1px;margin: -1px;overflow: hidden;padding: 0;position: absolute;width: 1px;}#sk-container-id-1 div.sk-estimator {font-family: monospace;background-color: #f0f8ff;border: 1px dotted black;border-radius: 0.25em;box-sizing: border-box;margin-bottom: 0.5em;}#sk-container-id-1 div.sk-estimator:hover {background-color: #d4ebff;}#sk-container-id-1 div.sk-parallel-item::after {content: \"\";width: 100%;border-bottom: 1px solid gray;flex-grow: 1;}#sk-container-id-1 div.sk-label:hover label.sk-toggleable__label {background-color: #d4ebff;}#sk-container-id-1 div.sk-serial::before {content: \"\";position: absolute;border-left: 1px solid gray;box-sizing: border-box;top: 0;bottom: 0;left: 50%;z-index: 0;}#sk-container-id-1 div.sk-serial {display: flex;flex-direction: column;align-items: center;background-color: white;padding-right: 0.2em;padding-left: 0.2em;position: relative;}#sk-container-id-1 div.sk-item {position: relative;z-index: 1;}#sk-container-id-1 div.sk-parallel {display: flex;align-items: stretch;justify-content: center;background-color: white;position: relative;}#sk-container-id-1 div.sk-item::before, #sk-container-id-1 div.sk-parallel-item::before {content: \"\";position: absolute;border-left: 1px solid gray;box-sizing: border-box;top: 0;bottom: 0;left: 50%;z-index: -1;}#sk-container-id-1 div.sk-parallel-item {display: flex;flex-direction: column;z-index: 1;position: relative;background-color: white;}#sk-container-id-1 div.sk-parallel-item:first-child::after {align-self: flex-end;width: 50%;}#sk-container-id-1 div.sk-parallel-item:last-child::after {align-self: flex-start;width: 50%;}#sk-container-id-1 div.sk-parallel-item:only-child::after {width: 0;}#sk-container-id-1 div.sk-dashed-wrapped {border: 1px dashed gray;margin: 0 0.4em 0.5em 0.4em;box-sizing: border-box;padding-bottom: 0.4em;background-color: white;}#sk-container-id-1 div.sk-label label {font-family: monospace;font-weight: bold;display: inline-block;line-height: 1.2em;}#sk-container-id-1 div.sk-label-container {text-align: center;}#sk-container-id-1 div.sk-container {/* jupyter's `normalize.less` sets `[hidden] { display: none; }` but bootstrap.min.css set `[hidden] { display: none !important; }` so we also need the `!important` here to be able to override the default hidden behavior on the sphinx rendered scikit-learn.org. See: https://github.com/scikit-learn/scikit-learn/issues/21755 */display: inline-block !important;position: relative;}#sk-container-id-1 div.sk-text-repr-fallback {display: none;}</style><div id=\"sk-container-id-1\" class=\"sk-top-container\"><div class=\"sk-text-repr-fallback\"><pre>RandomForestClassifier(max_depth=50, max_features=None, min_samples_leaf=5,\n",
       "                       min_samples_split=5, n_estimators=120, oob_score=True,\n",
       "                       random_state=42)</pre><b>In a Jupyter environment, please rerun this cell to show the HTML representation or trust the notebook. <br />On GitHub, the HTML representation is unable to render, please try loading this page with nbviewer.org.</b></div><div class=\"sk-container\" hidden><div class=\"sk-item\"><div class=\"sk-estimator sk-toggleable\"><input class=\"sk-toggleable__control sk-hidden--visually\" id=\"sk-estimator-id-1\" type=\"checkbox\" checked><label for=\"sk-estimator-id-1\" class=\"sk-toggleable__label sk-toggleable__label-arrow\">RandomForestClassifier</label><div class=\"sk-toggleable__content\"><pre>RandomForestClassifier(max_depth=50, max_features=None, min_samples_leaf=5,\n",
       "                       min_samples_split=5, n_estimators=120, oob_score=True,\n",
       "                       random_state=42)</pre></div></div></div></div></div>"
      ],
      "text/plain": [
       "RandomForestClassifier(max_depth=50, max_features=None, min_samples_leaf=5,\n",
       "                       min_samples_split=5, n_estimators=120, oob_score=True,\n",
       "                       random_state=42)"
      ]
     },
     "execution_count": 7,
     "metadata": {},
     "output_type": "execute_result"
    }
   ],
   "source": [
    "rf = RandomForestClassifier(n_estimators=120,\n",
    "                          max_depth=50,\n",
    "                          min_samples_split=5,\n",
    "                          min_samples_leaf=5,\n",
    "                          max_features=None,\n",
    "                          oob_score=True,\n",
    "                          random_state=42)\n",
    "rf.fit(X_train, y_train)\n"
   ]
  },
  {
   "cell_type": "code",
   "execution_count": 8,
   "metadata": {},
   "outputs": [],
   "source": [
    "test_df = pd.read_csv(\"./test.csv\")\n",
    "test_df = test_df.sample(frac=1).reset_index(drop=True)\n",
    "\n",
    "test_df.loc[test_df[\"label\"] == labels_[0], \"label\"] = 0\n",
    "test_df.loc[test_df[\"label\"] == labels_[1], \"label\"] = 1\n",
    "test_df.loc[test_df[\"label\"] == labels_[2], \"label\"] = 2\n",
    "\n",
    "test_x = test_df.drop(\"label\", axis=1)\n",
    "test_y = test_df[\"label\"].astype(\"int\")\n",
    "\n",
    "test_x = pd.DataFrame(sc.transform(test_x))"
   ]
  },
  {
   "cell_type": "code",
   "execution_count": 9,
   "metadata": {},
   "outputs": [],
   "source": [
    "model_results = rf.predict(test_x)"
   ]
  },
  {
   "cell_type": "code",
   "execution_count": 10,
   "metadata": {},
   "outputs": [],
   "source": [
    "from sklearn.metrics import precision_score, accuracy_score, f1_score, recall_score, confusion_matrix"
   ]
  },
  {
   "cell_type": "code",
   "execution_count": 11,
   "metadata": {},
   "outputs": [],
   "source": [
    "p_score = precision_score(test_y, model_results, average=None, labels=[0, 1, 2])\n",
    "a_score = accuracy_score(test_y, model_results)\n",
    "r_score = recall_score(test_y, model_results, average=None, labels=[0, 1, 2])\n",
    "f1_score_result = f1_score(test_y, model_results, average=None, labels=[0, 1, 2])\n",
    "cm = confusion_matrix(test_y, model_results, labels=[0, 1, 2])"
   ]
  },
  {
   "cell_type": "code",
   "execution_count": 12,
   "metadata": {},
   "outputs": [
    {
     "name": "stdout",
     "output_type": "stream",
     "text": [
      "RandomForest\n",
      "P_Score is [0.74038462 1.         0.98125   ]\n",
      "Accuracy_Score is 0.8816901408450705\n",
      "Recall_Score is [0.98717949 0.98755187 0.66808511]\n",
      "F1_Score is [0.84615385 0.99373695 0.79493671]\n"
     ]
    }
   ],
   "source": [
    "print('RandomForest')\n",
    "print(f'P_Score is {p_score}')\n",
    "print(f'Accuracy_Score is {a_score}')\n",
    "print(f'Recall_Score is {r_score}')\n",
    "print(f'F1_Score is {f1_score_result}')"
   ]
  },
  {
   "cell_type": "code",
   "execution_count": 13,
   "metadata": {},
   "outputs": [],
   "source": [
    "with open(\"./models/plank.pkl\", \"wb\") as f:\n",
    "    pickle.dump(rf, f)"
   ]
  }
 ],
 "metadata": {
  "kernelspec": {
   "display_name": "Python 3",
   "language": "python",
   "name": "python3"
  },
  "language_info": {
   "codemirror_mode": {
    "name": "ipython",
    "version": 3
   },
   "file_extension": ".py",
   "mimetype": "text/x-python",
   "name": "python",
   "nbconvert_exporter": "python",
   "pygments_lexer": "ipython3",
   "version": "3.11.4"
  },
  "orig_nbformat": 4
 },
 "nbformat": 4,
 "nbformat_minor": 2
}
